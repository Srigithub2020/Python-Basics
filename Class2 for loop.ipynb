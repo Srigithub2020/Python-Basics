{
 "cells": [
  {
   "cell_type": "code",
   "execution_count": 5,
   "metadata": {},
   "outputs": [],
   "source": [
    "student = ['Veena', 'Mohan', 'Raju', 'Khan', 'Saleem', 'Vishnu']"
   ]
  },
  {
   "cell_type": "code",
   "execution_count": 8,
   "metadata": {},
   "outputs": [
    {
     "name": "stdout",
     "output_type": "stream",
     "text": [
      "['Veena', 'Mohan', 'Raju', 'Khan', 'Saleem', 'Vishnu']\n"
     ]
    }
   ],
   "source": [
    "print(student)"
   ]
  },
  {
   "cell_type": "code",
   "execution_count": 9,
   "metadata": {},
   "outputs": [
    {
     "data": {
      "text/plain": [
       "list"
      ]
     },
     "execution_count": 9,
     "metadata": {},
     "output_type": "execute_result"
    }
   ],
   "source": [
    "type(student)"
   ]
  },
  {
   "cell_type": "code",
   "execution_count": 10,
   "metadata": {},
   "outputs": [],
   "source": [
    "#to add comments to the members of the list"
   ]
  },
  {
   "cell_type": "code",
   "execution_count": 12,
   "metadata": {},
   "outputs": [
    {
     "name": "stdout",
     "output_type": "stream",
     "text": [
      "keep up the good work, Khan\n"
     ]
    }
   ],
   "source": [
    "print(f'keep up the good work, {student[3]}')"
   ]
  },
  {
   "cell_type": "code",
   "execution_count": 13,
   "metadata": {},
   "outputs": [
    {
     "name": "stdout",
     "output_type": "stream",
     "text": [
      "keep up the good work, Raju\n"
     ]
    }
   ],
   "source": [
    "print(f'keep up the good work, {student[2]}')"
   ]
  },
  {
   "cell_type": "code",
   "execution_count": 14,
   "metadata": {},
   "outputs": [],
   "source": [
    "#In the above command we have to comment one by one to cover all the members of the list,so to enhance it introduce for loop "
   ]
  },
  {
   "cell_type": "code",
   "execution_count": 16,
   "metadata": {},
   "outputs": [],
   "source": [
    "#General Syntax of for Loop\n",
    "\n",
    "#tempvar need to be created in the loop itself \n",
    "\n",
    "#for tempvar in mainvar:\n",
    "   # print(tempvar)      #indentation"
   ]
  },
  {
   "cell_type": "code",
   "execution_count": 17,
   "metadata": {},
   "outputs": [],
   "source": [
    "#implementation of for loop"
   ]
  },
  {
   "cell_type": "code",
   "execution_count": 18,
   "metadata": {},
   "outputs": [
    {
     "name": "stdout",
     "output_type": "stream",
     "text": [
      "Veena\n",
      "Mohan\n",
      "Raju\n",
      "Khan\n",
      "Saleem\n",
      "Vishnu\n"
     ]
    }
   ],
   "source": [
    "for x in student:\n",
    "    print(x)"
   ]
  },
  {
   "cell_type": "code",
   "execution_count": 19,
   "metadata": {},
   "outputs": [],
   "source": [
    "#enhancement of the for loop"
   ]
  },
  {
   "cell_type": "code",
   "execution_count": 20,
   "metadata": {},
   "outputs": [
    {
     "name": "stdout",
     "output_type": "stream",
     "text": [
      "keep up the good work, Veena\n",
      "keep up the good work, Mohan\n",
      "keep up the good work, Raju\n",
      "keep up the good work, Khan\n",
      "keep up the good work, Saleem\n",
      "keep up the good work, Vishnu\n"
     ]
    }
   ],
   "source": [
    "for x in student:\n",
    "    print(f'keep up the good work, {x}')"
   ]
  },
  {
   "cell_type": "code",
   "execution_count": 21,
   "metadata": {},
   "outputs": [],
   "source": [
    "#Adding more "
   ]
  },
  {
   "cell_type": "code",
   "execution_count": 22,
   "metadata": {},
   "outputs": [
    {
     "name": "stdout",
     "output_type": "stream",
     "text": [
      "keep up the good work, Veena\n",
      "All the best, Veena\n",
      "keep up the good work, Mohan\n",
      "All the best, Mohan\n",
      "keep up the good work, Raju\n",
      "All the best, Raju\n",
      "keep up the good work, Khan\n",
      "All the best, Khan\n",
      "keep up the good work, Saleem\n",
      "All the best, Saleem\n",
      "keep up the good work, Vishnu\n",
      "All the best, Vishnu\n"
     ]
    }
   ],
   "source": [
    "for x in student:\n",
    "    print(f'keep up the good work, {x}')\n",
    "    print(f'All the best, {x}')"
   ]
  },
  {
   "cell_type": "code",
   "execution_count": 26,
   "metadata": {},
   "outputs": [
    {
     "name": "stdout",
     "output_type": "stream",
     "text": [
      "keep up the good work, Veena\n",
      "All the best, Veena.\n",
      "\n",
      "keep up the good work, Mohan\n",
      "All the best, Mohan.\n",
      "\n",
      "keep up the good work, Raju\n",
      "All the best, Raju.\n",
      "\n",
      "keep up the good work, Khan\n",
      "All the best, Khan.\n",
      "\n",
      "keep up the good work, Saleem\n",
      "All the best, Saleem.\n",
      "\n",
      "keep up the good work, Vishnu\n",
      "All the best, Vishnu.\n",
      "\n"
     ]
    }
   ],
   "source": [
    "for x in student:\n",
    "    print(f'keep up the good work, {x}')\n",
    "    print(f'All the best, {x}.\\n')"
   ]
  },
  {
   "cell_type": "code",
   "execution_count": 28,
   "metadata": {},
   "outputs": [
    {
     "name": "stdout",
     "output_type": "stream",
     "text": [
      "keep up the good work, Veena\n",
      "All the best, Veena\n",
      "keep up the good work, Mohan\n",
      "All the best, Mohan\n",
      "keep up the good work, Raju\n",
      "All the best, Raju\n",
      "keep up the good work, Khan\n",
      "All the best, Khan\n",
      "keep up the good work, Saleem\n",
      "All the best, Saleem\n",
      "keep up the good work, Vishnu\n",
      "All the best, Vishnu\n",
      "Thankyou Vishnu\n"
     ]
    }
   ],
   "source": [
    "for x in student:\n",
    "    print(f'keep up the good work, {x}')\n",
    "    print(f'All the best, {x}')\n",
    "    \n",
    "print(f'Thankyou {x}')   "
   ]
  },
  {
   "cell_type": "code",
   "execution_count": 29,
   "metadata": {},
   "outputs": [],
   "source": [
    "#Note the last print command is out of the loop hence the statement Thankyou has been printed only once"
   ]
  },
  {
   "cell_type": "code",
   "execution_count": 30,
   "metadata": {},
   "outputs": [
    {
     "name": "stdout",
     "output_type": "stream",
     "text": [
      "keep up the good work, Veena\n",
      "All the best, Veena\n",
      "Thankyou Veena\n",
      "keep up the good work, Mohan\n",
      "All the best, Mohan\n",
      "Thankyou Mohan\n",
      "keep up the good work, Raju\n",
      "All the best, Raju\n",
      "Thankyou Raju\n",
      "keep up the good work, Khan\n",
      "All the best, Khan\n",
      "Thankyou Khan\n",
      "keep up the good work, Saleem\n",
      "All the best, Saleem\n",
      "Thankyou Saleem\n",
      "keep up the good work, Vishnu\n",
      "All the best, Vishnu\n",
      "Thankyou Vishnu\n"
     ]
    }
   ],
   "source": [
    "for x in student:\n",
    "    print(f'keep up the good work, {x}')\n",
    "    print(f'All the best, {x}')\n",
    "    print(f'Thankyou {x}')"
   ]
  },
  {
   "cell_type": "code",
   "execution_count": null,
   "metadata": {},
   "outputs": [],
   "source": []
  }
 ],
 "metadata": {
  "kernelspec": {
   "display_name": "Python 3",
   "language": "python",
   "name": "python3"
  },
  "language_info": {
   "codemirror_mode": {
    "name": "ipython",
    "version": 3
   },
   "file_extension": ".py",
   "mimetype": "text/x-python",
   "name": "python",
   "nbconvert_exporter": "python",
   "pygments_lexer": "ipython3",
   "version": "3.8.3"
  }
 },
 "nbformat": 4,
 "nbformat_minor": 4
}
